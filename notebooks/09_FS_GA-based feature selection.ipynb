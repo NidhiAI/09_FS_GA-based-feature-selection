{
  "cells": [
    {
      "attachments": {},
      "cell_type": "markdown",
      "metadata": {
        "id": "urqxJPz9j6S5"
      },
      "source": [
        "<< Problem Statement >>\n",
        "\n",
        "Develop a GA-based feature selection data for the adult data set for the data provided. Compare your results with at least three ML methods (with and without feature selection). \n",
        "Draw your inferences and explain them with evidence. "
      ]
    },
    {
      "cell_type": "markdown",
      "metadata": {
        "id": "-34hApcgj6WU"
      },
      "source": [
        "The experiments is based on the Adult dataset, which contains 48842 instances and 15 features. With this dataset, we test several classifiers with all of the features, the subset of features from the genetic algorithm, and thirty features using the full data for comparison."
      ]
    },
    {
      "attachments": {},
      "cell_type": "markdown",
      "metadata": {
        "id": "A7cQ5AlRhaYu"
      },
      "source": [
        "Details of the file-\n",
        "\n",
        "Fields\n",
        "The dataset contains 16 columns\n",
        "Target filed: Income\n",
        "-- The income is divide into two classes: <=50K and >50K\n",
        "Number of attributes: 14\n",
        "-- These are the demographics and other features to describe a person"
      ]
    },
    {
      "cell_type": "code",
      "execution_count": 1,
      "metadata": {
        "id": "k--O9wBsj7F_"
      },
      "outputs": [],
      "source": [
        "#Data management Libraryies\n",
        "import pandas as pd\n",
        "import numpy as np\n",
        "#from sklearn.datasets import load_breast_cancer\n",
        "from sklearn.model_selection import train_test_split\n",
        "\n",
        "# Graph and plots\n",
        "import seaborn as sns\n",
        "import matplotlib.pyplot as plt\n",
        "\n",
        "#Modeling - AIML\n",
        "from genetic_selection import GeneticSelectionCV\n",
        "from sklearn.tree import DecisionTreeClassifier\n",
        "from sklearn.linear_model import LogisticRegression\n",
        "from sklearn.ensemble import RandomForestClassifier\n",
        "from sklearn.neighbors import KNeighborsClassifier\n",
        "from sklearn.svm import SVC\n",
        "from sklearn.naive_bayes import ComplementNB\n",
        "from sklearn.naive_bayes import GaussianNB \n",
        "\n",
        "#Evaluation\n",
        "from sklearn import metrics"
      ]
    },
    {
      "cell_type": "code",
      "execution_count": 2,
      "metadata": {
        "colab": {
          "base_uri": "https://localhost:8080/",
          "height": 74
        },
        "id": "G9hm2tWZZbKY",
        "outputId": "43985592-5124-47f9-881b-c6489fcb6162"
      },
      "outputs": [],
      "source": [
        "# Load datafile adult.csv (command for google colab)\n",
        "#from google.colab import files\n",
        "#uploaded = files.upload()"
      ]
    },
    {
      "cell_type": "code",
      "execution_count": 3,
      "metadata": {
        "id": "OVB8AFjNakA8"
      },
      "outputs": [],
      "source": [
        "# Importing the dataset\n",
        "#/workspaces/codespaces-jupyter/data/adult.csv\n",
        "data = pd.read_csv('../data/adult.csv')"
      ]
    },
    {
      "cell_type": "markdown",
      "metadata": {
        "id": "arfbhUARgf9h"
      },
      "source": [
        "#Data Exploration"
      ]
    },
    {
      "cell_type": "code",
      "execution_count": 4,
      "metadata": {
        "colab": {
          "base_uri": "https://localhost:8080/",
          "height": 444
        },
        "id": "XzY97Isrb2ke",
        "outputId": "0845d8de-3b19-4007-fc4e-0a57f2a43145"
      },
      "outputs": [
        {
          "data": {
            "text/html": [
              "<div>\n",
              "<style scoped>\n",
              "    .dataframe tbody tr th:only-of-type {\n",
              "        vertical-align: middle;\n",
              "    }\n",
              "\n",
              "    .dataframe tbody tr th {\n",
              "        vertical-align: top;\n",
              "    }\n",
              "\n",
              "    .dataframe thead th {\n",
              "        text-align: right;\n",
              "    }\n",
              "</style>\n",
              "<table border=\"1\" class=\"dataframe\">\n",
              "  <thead>\n",
              "    <tr style=\"text-align: right;\">\n",
              "      <th></th>\n",
              "      <th>age</th>\n",
              "      <th>workclass</th>\n",
              "      <th>fnlwgt</th>\n",
              "      <th>education</th>\n",
              "      <th>educational-num</th>\n",
              "      <th>marital-status</th>\n",
              "      <th>occupation</th>\n",
              "      <th>relationship</th>\n",
              "      <th>race</th>\n",
              "      <th>gender</th>\n",
              "      <th>capital-gain</th>\n",
              "      <th>capital-loss</th>\n",
              "      <th>hours-per-week</th>\n",
              "      <th>native-country</th>\n",
              "      <th>income</th>\n",
              "    </tr>\n",
              "  </thead>\n",
              "  <tbody>\n",
              "    <tr>\n",
              "      <th>0</th>\n",
              "      <td>25</td>\n",
              "      <td>Private</td>\n",
              "      <td>226802</td>\n",
              "      <td>11th</td>\n",
              "      <td>7</td>\n",
              "      <td>Never-married</td>\n",
              "      <td>Machine-op-inspct</td>\n",
              "      <td>Own-child</td>\n",
              "      <td>Black</td>\n",
              "      <td>Male</td>\n",
              "      <td>0</td>\n",
              "      <td>0</td>\n",
              "      <td>40</td>\n",
              "      <td>United-States</td>\n",
              "      <td>&lt;=50K</td>\n",
              "    </tr>\n",
              "    <tr>\n",
              "      <th>1</th>\n",
              "      <td>38</td>\n",
              "      <td>Private</td>\n",
              "      <td>89814</td>\n",
              "      <td>HS-grad</td>\n",
              "      <td>9</td>\n",
              "      <td>Married-civ-spouse</td>\n",
              "      <td>Farming-fishing</td>\n",
              "      <td>Husband</td>\n",
              "      <td>White</td>\n",
              "      <td>Male</td>\n",
              "      <td>0</td>\n",
              "      <td>0</td>\n",
              "      <td>50</td>\n",
              "      <td>United-States</td>\n",
              "      <td>&lt;=50K</td>\n",
              "    </tr>\n",
              "    <tr>\n",
              "      <th>2</th>\n",
              "      <td>28</td>\n",
              "      <td>Local-gov</td>\n",
              "      <td>336951</td>\n",
              "      <td>Assoc-acdm</td>\n",
              "      <td>12</td>\n",
              "      <td>Married-civ-spouse</td>\n",
              "      <td>Protective-serv</td>\n",
              "      <td>Husband</td>\n",
              "      <td>White</td>\n",
              "      <td>Male</td>\n",
              "      <td>0</td>\n",
              "      <td>0</td>\n",
              "      <td>40</td>\n",
              "      <td>United-States</td>\n",
              "      <td>&gt;50K</td>\n",
              "    </tr>\n",
              "    <tr>\n",
              "      <th>3</th>\n",
              "      <td>44</td>\n",
              "      <td>Private</td>\n",
              "      <td>160323</td>\n",
              "      <td>Some-college</td>\n",
              "      <td>10</td>\n",
              "      <td>Married-civ-spouse</td>\n",
              "      <td>Machine-op-inspct</td>\n",
              "      <td>Husband</td>\n",
              "      <td>Black</td>\n",
              "      <td>Male</td>\n",
              "      <td>7688</td>\n",
              "      <td>0</td>\n",
              "      <td>40</td>\n",
              "      <td>United-States</td>\n",
              "      <td>&gt;50K</td>\n",
              "    </tr>\n",
              "    <tr>\n",
              "      <th>4</th>\n",
              "      <td>18</td>\n",
              "      <td>?</td>\n",
              "      <td>103497</td>\n",
              "      <td>Some-college</td>\n",
              "      <td>10</td>\n",
              "      <td>Never-married</td>\n",
              "      <td>?</td>\n",
              "      <td>Own-child</td>\n",
              "      <td>White</td>\n",
              "      <td>Female</td>\n",
              "      <td>0</td>\n",
              "      <td>0</td>\n",
              "      <td>30</td>\n",
              "      <td>United-States</td>\n",
              "      <td>&lt;=50K</td>\n",
              "    </tr>\n",
              "  </tbody>\n",
              "</table>\n",
              "</div>"
            ],
            "text/plain": [
              "   age  workclass  fnlwgt     education  educational-num      marital-status  \\\n",
              "0   25    Private  226802          11th                7       Never-married   \n",
              "1   38    Private   89814       HS-grad                9  Married-civ-spouse   \n",
              "2   28  Local-gov  336951    Assoc-acdm               12  Married-civ-spouse   \n",
              "3   44    Private  160323  Some-college               10  Married-civ-spouse   \n",
              "4   18          ?  103497  Some-college               10       Never-married   \n",
              "\n",
              "          occupation relationship   race  gender  capital-gain  capital-loss  \\\n",
              "0  Machine-op-inspct    Own-child  Black    Male             0             0   \n",
              "1    Farming-fishing      Husband  White    Male             0             0   \n",
              "2    Protective-serv      Husband  White    Male             0             0   \n",
              "3  Machine-op-inspct      Husband  Black    Male          7688             0   \n",
              "4                  ?    Own-child  White  Female             0             0   \n",
              "\n",
              "   hours-per-week native-country income  \n",
              "0              40  United-States  <=50K  \n",
              "1              50  United-States  <=50K  \n",
              "2              40  United-States   >50K  \n",
              "3              40  United-States   >50K  \n",
              "4              30  United-States  <=50K  "
            ]
          },
          "execution_count": 4,
          "metadata": {},
          "output_type": "execute_result"
        }
      ],
      "source": [
        "# Display top 5 records \n",
        "data.head(5)"
      ]
    },
    {
      "attachments": {},
      "cell_type": "markdown",
      "metadata": {},
      "source": [
        "# Data preprocessing"
      ]
    },
    {
      "cell_type": "code",
      "execution_count": 5,
      "metadata": {},
      "outputs": [
        {
          "data": {
            "text/plain": [
              "age                   0\n",
              "workclass          2799\n",
              "fnlwgt                0\n",
              "education             0\n",
              "educational-num       0\n",
              "marital-status        0\n",
              "occupation         2809\n",
              "relationship          0\n",
              "race                  0\n",
              "gender                0\n",
              "capital-gain          0\n",
              "capital-loss          0\n",
              "hours-per-week        0\n",
              "native-country      857\n",
              "income                0\n",
              "dtype: int64"
            ]
          },
          "execution_count": 5,
          "metadata": {},
          "output_type": "execute_result"
        }
      ],
      "source": [
        "# There are datas with ? in multiple columns so will clean it \n",
        "# Columns workclass, occupation, native-country have ? \n",
        "data.isin([\"?\"]).sum()"
      ]
    },
    {
      "cell_type": "code",
      "execution_count": 6,
      "metadata": {},
      "outputs": [],
      "source": [
        "# Clean data\n",
        "data[\"workclass\"].replace(\"?\", np.nan, inplace= True)\n",
        "data[\"occupation\"].replace(\"?\", np.nan, inplace= True)\n",
        "data[\"native-country\"].replace(\"?\", np.nan, inplace= True)"
      ]
    },
    {
      "cell_type": "code",
      "execution_count": 7,
      "metadata": {},
      "outputs": [
        {
          "data": {
            "text/plain": [
              "age                0\n",
              "workclass          0\n",
              "fnlwgt             0\n",
              "education          0\n",
              "educational-num    0\n",
              "marital-status     0\n",
              "occupation         0\n",
              "relationship       0\n",
              "race               0\n",
              "gender             0\n",
              "capital-gain       0\n",
              "capital-loss       0\n",
              "hours-per-week     0\n",
              "native-country     0\n",
              "income             0\n",
              "dtype: int64"
            ]
          },
          "execution_count": 7,
          "metadata": {},
          "output_type": "execute_result"
        }
      ],
      "source": [
        "data.isin([\"?\"]).sum()"
      ]
    },
    {
      "cell_type": "code",
      "execution_count": 8,
      "metadata": {},
      "outputs": [
        {
          "data": {
            "text/plain": [
              "age                   0\n",
              "workclass          2799\n",
              "fnlwgt                0\n",
              "education             0\n",
              "educational-num       0\n",
              "marital-status        0\n",
              "occupation         2809\n",
              "relationship          0\n",
              "race                  0\n",
              "gender                0\n",
              "capital-gain          0\n",
              "capital-loss          0\n",
              "hours-per-week        0\n",
              "native-country      857\n",
              "income                0\n",
              "dtype: int64"
            ]
          },
          "execution_count": 8,
          "metadata": {},
          "output_type": "execute_result"
        }
      ],
      "source": [
        "# check if any null value in any column\n",
        "data.isnull().sum()"
      ]
    },
    {
      "cell_type": "code",
      "execution_count": 9,
      "metadata": {},
      "outputs": [
        {
          "data": {
            "text/plain": [
              "(48842, 15)"
            ]
          },
          "execution_count": 9,
          "metadata": {},
          "output_type": "execute_result"
        }
      ],
      "source": [
        "# Total rows 48842, columns 15\n",
        "data.shape"
      ]
    },
    {
      "cell_type": "code",
      "execution_count": 10,
      "metadata": {},
      "outputs": [
        {
          "data": {
            "text/plain": [
              "(45222, 15)"
            ]
          },
          "execution_count": 10,
          "metadata": {},
          "output_type": "execute_result"
        }
      ],
      "source": [
        "# Delete records for null values \n",
        "data.dropna(how = \"any\", inplace = True)\n",
        "data.shape\n",
        "\n",
        "# After drop null - Total rows 45222, columns 15"
      ]
    },
    {
      "cell_type": "code",
      "execution_count": 11,
      "metadata": {},
      "outputs": [
        {
          "data": {
            "text/plain": [
              "age                0\n",
              "workclass          0\n",
              "fnlwgt             0\n",
              "education          0\n",
              "educational-num    0\n",
              "marital-status     0\n",
              "occupation         0\n",
              "relationship       0\n",
              "race               0\n",
              "gender             0\n",
              "capital-gain       0\n",
              "capital-loss       0\n",
              "hours-per-week     0\n",
              "native-country     0\n",
              "income             0\n",
              "dtype: int64"
            ]
          },
          "execution_count": 11,
          "metadata": {},
          "output_type": "execute_result"
        }
      ],
      "source": [
        "data.isnull().sum()"
      ]
    },
    {
      "cell_type": "code",
      "execution_count": 12,
      "metadata": {},
      "outputs": [
        {
          "data": {
            "text/plain": [
              "True"
            ]
          },
          "execution_count": 12,
          "metadata": {},
          "output_type": "execute_result"
        }
      ],
      "source": [
        "# check for duplicate data and drop \n",
        "\n",
        "data.duplicated().any()"
      ]
    },
    {
      "cell_type": "code",
      "execution_count": 13,
      "metadata": {},
      "outputs": [
        {
          "data": {
            "text/plain": [
              "(45175, 15)"
            ]
          },
          "execution_count": 13,
          "metadata": {},
          "output_type": "execute_result"
        }
      ],
      "source": [
        "# there is duplicate data so delete them\n",
        "data = data.drop_duplicates()\n",
        "data.shape\n",
        "\n",
        "# After duplicate delete - Total rows 45175, columns 15"
      ]
    },
    {
      "cell_type": "code",
      "execution_count": 14,
      "metadata": {
        "colab": {
          "base_uri": "https://localhost:8080/",
          "height": 300
        },
        "id": "sZ8XMpTJb2pt",
        "outputId": "9bdeafc9-c33a-4d28-c011-3e69821af439"
      },
      "outputs": [
        {
          "data": {
            "text/html": [
              "<div>\n",
              "<style scoped>\n",
              "    .dataframe tbody tr th:only-of-type {\n",
              "        vertical-align: middle;\n",
              "    }\n",
              "\n",
              "    .dataframe tbody tr th {\n",
              "        vertical-align: top;\n",
              "    }\n",
              "\n",
              "    .dataframe thead th {\n",
              "        text-align: right;\n",
              "    }\n",
              "</style>\n",
              "<table border=\"1\" class=\"dataframe\">\n",
              "  <thead>\n",
              "    <tr style=\"text-align: right;\">\n",
              "      <th></th>\n",
              "      <th>age</th>\n",
              "      <th>fnlwgt</th>\n",
              "      <th>educational-num</th>\n",
              "      <th>capital-gain</th>\n",
              "      <th>capital-loss</th>\n",
              "      <th>hours-per-week</th>\n",
              "    </tr>\n",
              "  </thead>\n",
              "  <tbody>\n",
              "    <tr>\n",
              "      <th>count</th>\n",
              "      <td>45175.000000</td>\n",
              "      <td>4.517500e+04</td>\n",
              "      <td>45175.000000</td>\n",
              "      <td>45175.000000</td>\n",
              "      <td>45175.000000</td>\n",
              "      <td>45175.000000</td>\n",
              "    </tr>\n",
              "    <tr>\n",
              "      <th>mean</th>\n",
              "      <td>38.556170</td>\n",
              "      <td>1.897388e+05</td>\n",
              "      <td>10.119314</td>\n",
              "      <td>1102.576270</td>\n",
              "      <td>88.687593</td>\n",
              "      <td>40.942512</td>\n",
              "    </tr>\n",
              "    <tr>\n",
              "      <th>std</th>\n",
              "      <td>13.215349</td>\n",
              "      <td>1.056524e+05</td>\n",
              "      <td>2.551740</td>\n",
              "      <td>7510.249876</td>\n",
              "      <td>405.156611</td>\n",
              "      <td>12.007730</td>\n",
              "    </tr>\n",
              "    <tr>\n",
              "      <th>min</th>\n",
              "      <td>17.000000</td>\n",
              "      <td>1.349200e+04</td>\n",
              "      <td>1.000000</td>\n",
              "      <td>0.000000</td>\n",
              "      <td>0.000000</td>\n",
              "      <td>1.000000</td>\n",
              "    </tr>\n",
              "    <tr>\n",
              "      <th>25%</th>\n",
              "      <td>28.000000</td>\n",
              "      <td>1.173925e+05</td>\n",
              "      <td>9.000000</td>\n",
              "      <td>0.000000</td>\n",
              "      <td>0.000000</td>\n",
              "      <td>40.000000</td>\n",
              "    </tr>\n",
              "    <tr>\n",
              "      <th>50%</th>\n",
              "      <td>37.000000</td>\n",
              "      <td>1.783120e+05</td>\n",
              "      <td>10.000000</td>\n",
              "      <td>0.000000</td>\n",
              "      <td>0.000000</td>\n",
              "      <td>40.000000</td>\n",
              "    </tr>\n",
              "    <tr>\n",
              "      <th>75%</th>\n",
              "      <td>47.000000</td>\n",
              "      <td>2.379030e+05</td>\n",
              "      <td>13.000000</td>\n",
              "      <td>0.000000</td>\n",
              "      <td>0.000000</td>\n",
              "      <td>45.000000</td>\n",
              "    </tr>\n",
              "    <tr>\n",
              "      <th>max</th>\n",
              "      <td>90.000000</td>\n",
              "      <td>1.490400e+06</td>\n",
              "      <td>16.000000</td>\n",
              "      <td>99999.000000</td>\n",
              "      <td>4356.000000</td>\n",
              "      <td>99.000000</td>\n",
              "    </tr>\n",
              "  </tbody>\n",
              "</table>\n",
              "</div>"
            ],
            "text/plain": [
              "                age        fnlwgt  educational-num  capital-gain  \\\n",
              "count  45175.000000  4.517500e+04     45175.000000  45175.000000   \n",
              "mean      38.556170  1.897388e+05        10.119314   1102.576270   \n",
              "std       13.215349  1.056524e+05         2.551740   7510.249876   \n",
              "min       17.000000  1.349200e+04         1.000000      0.000000   \n",
              "25%       28.000000  1.173925e+05         9.000000      0.000000   \n",
              "50%       37.000000  1.783120e+05        10.000000      0.000000   \n",
              "75%       47.000000  2.379030e+05        13.000000      0.000000   \n",
              "max       90.000000  1.490400e+06        16.000000  99999.000000   \n",
              "\n",
              "       capital-loss  hours-per-week  \n",
              "count  45175.000000    45175.000000  \n",
              "mean      88.687593       40.942512  \n",
              "std      405.156611       12.007730  \n",
              "min        0.000000        1.000000  \n",
              "25%        0.000000       40.000000  \n",
              "50%        0.000000       40.000000  \n",
              "75%        0.000000       45.000000  \n",
              "max     4356.000000       99.000000  "
            ]
          },
          "execution_count": 14,
          "metadata": {},
          "output_type": "execute_result"
        }
      ],
      "source": [
        "# Describe Data \n",
        "data.describe()"
      ]
    },
    {
      "cell_type": "code",
      "execution_count": 15,
      "metadata": {
        "colab": {
          "base_uri": "https://localhost:8080/"
        },
        "id": "hdeLyB-qdSKu",
        "outputId": "f07796b3-aa16-4381-b1de-49f4764f2acd"
      },
      "outputs": [
        {
          "name": "stdout",
          "output_type": "stream",
          "text": [
            "<class 'pandas.core.frame.DataFrame'>\n",
            "Int64Index: 45175 entries, 0 to 48841\n",
            "Data columns (total 15 columns):\n",
            " #   Column           Non-Null Count  Dtype \n",
            "---  ------           --------------  ----- \n",
            " 0   age              45175 non-null  int64 \n",
            " 1   workclass        45175 non-null  object\n",
            " 2   fnlwgt           45175 non-null  int64 \n",
            " 3   education        45175 non-null  object\n",
            " 4   educational-num  45175 non-null  int64 \n",
            " 5   marital-status   45175 non-null  object\n",
            " 6   occupation       45175 non-null  object\n",
            " 7   relationship     45175 non-null  object\n",
            " 8   race             45175 non-null  object\n",
            " 9   gender           45175 non-null  object\n",
            " 10  capital-gain     45175 non-null  int64 \n",
            " 11  capital-loss     45175 non-null  int64 \n",
            " 12  hours-per-week   45175 non-null  int64 \n",
            " 13  native-country   45175 non-null  object\n",
            " 14  income           45175 non-null  object\n",
            "dtypes: int64(6), object(9)\n",
            "memory usage: 5.5+ MB\n"
          ]
        }
      ],
      "source": [
        "# Display columns type\n",
        "data.info()"
      ]
    },
    {
      "attachments": {},
      "cell_type": "markdown",
      "metadata": {
        "id": "jh6Jw0iRgrCp"
      },
      "source": []
    },
    {
      "cell_type": "code",
      "execution_count": 16,
      "metadata": {
        "id": "w9C6bv6begKf"
      },
      "outputs": [],
      "source": [
        "# Fields\n",
        "#The dataset contains 16 columns\n",
        "#Target filed: Income\n",
        "#-- The income is divide into two classes: <=50K and >50K\n",
        "#Number of attributes: 14\n",
        "#-- These are the demographics and other features to describe a person"
      ]
    },
    {
      "cell_type": "code",
      "execution_count": 17,
      "metadata": {
        "colab": {
          "base_uri": "https://localhost:8080/"
        },
        "id": "7SqEmLx5evYM",
        "outputId": "3f1230f2-ce79-4bed-8123-78d61f93dcc5"
      },
      "outputs": [
        {
          "data": {
            "text/plain": [
              "array(['<=50K', '>50K'], dtype=object)"
            ]
          },
          "execution_count": 17,
          "metadata": {},
          "output_type": "execute_result"
        }
      ],
      "source": [
        "# target field is income (Given in Data file)\n",
        "# Print all unique values  \n",
        "# There are only 2 unique values <=50k, >50k\n",
        "data.income.unique()"
      ]
    },
    {
      "cell_type": "code",
      "execution_count": 18,
      "metadata": {
        "id": "Z2D5fjsLevfX"
      },
      "outputs": [],
      "source": [
        "# now we will convert these 2 values in 0/1 \n",
        "# <=50k to 0, >50k to 1\n",
        "data.income.replace(['<=50K', '>50K'],[0,1], inplace=True)"
      ]
    },
    {
      "cell_type": "code",
      "execution_count": 19,
      "metadata": {
        "colab": {
          "base_uri": "https://localhost:8080/",
          "height": 246
        },
        "id": "9bxu5dAVegRm",
        "outputId": "7badf06a-30d4-4102-cf35-2b9cb310c4bb"
      },
      "outputs": [
        {
          "data": {
            "text/html": [
              "<div>\n",
              "<style scoped>\n",
              "    .dataframe tbody tr th:only-of-type {\n",
              "        vertical-align: middle;\n",
              "    }\n",
              "\n",
              "    .dataframe tbody tr th {\n",
              "        vertical-align: top;\n",
              "    }\n",
              "\n",
              "    .dataframe thead th {\n",
              "        text-align: right;\n",
              "    }\n",
              "</style>\n",
              "<table border=\"1\" class=\"dataframe\">\n",
              "  <thead>\n",
              "    <tr style=\"text-align: right;\">\n",
              "      <th></th>\n",
              "      <th>age</th>\n",
              "      <th>workclass</th>\n",
              "      <th>fnlwgt</th>\n",
              "      <th>education</th>\n",
              "      <th>educational-num</th>\n",
              "      <th>marital-status</th>\n",
              "      <th>occupation</th>\n",
              "      <th>relationship</th>\n",
              "      <th>race</th>\n",
              "      <th>gender</th>\n",
              "      <th>capital-gain</th>\n",
              "      <th>capital-loss</th>\n",
              "      <th>hours-per-week</th>\n",
              "      <th>native-country</th>\n",
              "      <th>income</th>\n",
              "    </tr>\n",
              "  </thead>\n",
              "  <tbody>\n",
              "    <tr>\n",
              "      <th>30585</th>\n",
              "      <td>22</td>\n",
              "      <td>Private</td>\n",
              "      <td>156822</td>\n",
              "      <td>10th</td>\n",
              "      <td>6</td>\n",
              "      <td>Never-married</td>\n",
              "      <td>Sales</td>\n",
              "      <td>Not-in-family</td>\n",
              "      <td>White</td>\n",
              "      <td>Female</td>\n",
              "      <td>0</td>\n",
              "      <td>1762</td>\n",
              "      <td>25</td>\n",
              "      <td>United-States</td>\n",
              "      <td>0</td>\n",
              "    </tr>\n",
              "    <tr>\n",
              "      <th>15914</th>\n",
              "      <td>42</td>\n",
              "      <td>Private</td>\n",
              "      <td>112507</td>\n",
              "      <td>12th</td>\n",
              "      <td>8</td>\n",
              "      <td>Married-civ-spouse</td>\n",
              "      <td>Transport-moving</td>\n",
              "      <td>Husband</td>\n",
              "      <td>White</td>\n",
              "      <td>Male</td>\n",
              "      <td>0</td>\n",
              "      <td>0</td>\n",
              "      <td>30</td>\n",
              "      <td>United-States</td>\n",
              "      <td>0</td>\n",
              "    </tr>\n",
              "  </tbody>\n",
              "</table>\n",
              "</div>"
            ],
            "text/plain": [
              "       age workclass  fnlwgt education  educational-num      marital-status  \\\n",
              "30585   22   Private  156822      10th                6       Never-married   \n",
              "15914   42   Private  112507      12th                8  Married-civ-spouse   \n",
              "\n",
              "             occupation   relationship   race  gender  capital-gain  \\\n",
              "30585             Sales  Not-in-family  White  Female             0   \n",
              "15914  Transport-moving        Husband  White    Male             0   \n",
              "\n",
              "       capital-loss  hours-per-week native-country  income  \n",
              "30585          1762              25  United-States       0  \n",
              "15914             0              30  United-States       0  "
            ]
          },
          "execution_count": 19,
          "metadata": {},
          "output_type": "execute_result"
        }
      ],
      "source": [
        "# Print after converting income column \n",
        "data.sample(2)"
      ]
    },
    {
      "cell_type": "code",
      "execution_count": 20,
      "metadata": {
        "id": "kClbRfmQj9vH"
      },
      "outputs": [],
      "source": [
        "# Divive data into x(Independent variables) and y (Target/Dependent variable) \n",
        "x = data.drop(\"income\", axis= 1)\n",
        "y = data[\"income\"]"
      ]
    },
    {
      "cell_type": "code",
      "execution_count": 21,
      "metadata": {
        "colab": {
          "base_uri": "https://localhost:8080/",
          "height": 263
        },
        "id": "GEZfac1Vj95j",
        "outputId": "8d91171f-f8cb-4bd0-e77a-263441936d51"
      },
      "outputs": [
        {
          "data": {
            "text/html": [
              "<div>\n",
              "<style scoped>\n",
              "    .dataframe tbody tr th:only-of-type {\n",
              "        vertical-align: middle;\n",
              "    }\n",
              "\n",
              "    .dataframe tbody tr th {\n",
              "        vertical-align: top;\n",
              "    }\n",
              "\n",
              "    .dataframe thead th {\n",
              "        text-align: right;\n",
              "    }\n",
              "</style>\n",
              "<table border=\"1\" class=\"dataframe\">\n",
              "  <thead>\n",
              "    <tr style=\"text-align: right;\">\n",
              "      <th></th>\n",
              "      <th>age</th>\n",
              "      <th>workclass</th>\n",
              "      <th>fnlwgt</th>\n",
              "      <th>education</th>\n",
              "      <th>educational-num</th>\n",
              "      <th>marital-status</th>\n",
              "      <th>occupation</th>\n",
              "      <th>relationship</th>\n",
              "      <th>race</th>\n",
              "      <th>gender</th>\n",
              "      <th>capital-gain</th>\n",
              "      <th>capital-loss</th>\n",
              "      <th>hours-per-week</th>\n",
              "      <th>native-country</th>\n",
              "    </tr>\n",
              "  </thead>\n",
              "  <tbody>\n",
              "    <tr>\n",
              "      <th>0</th>\n",
              "      <td>25</td>\n",
              "      <td>Private</td>\n",
              "      <td>226802</td>\n",
              "      <td>11th</td>\n",
              "      <td>7</td>\n",
              "      <td>Never-married</td>\n",
              "      <td>Machine-op-inspct</td>\n",
              "      <td>Own-child</td>\n",
              "      <td>Black</td>\n",
              "      <td>Male</td>\n",
              "      <td>0</td>\n",
              "      <td>0</td>\n",
              "      <td>40</td>\n",
              "      <td>United-States</td>\n",
              "    </tr>\n",
              "    <tr>\n",
              "      <th>1</th>\n",
              "      <td>38</td>\n",
              "      <td>Private</td>\n",
              "      <td>89814</td>\n",
              "      <td>HS-grad</td>\n",
              "      <td>9</td>\n",
              "      <td>Married-civ-spouse</td>\n",
              "      <td>Farming-fishing</td>\n",
              "      <td>Husband</td>\n",
              "      <td>White</td>\n",
              "      <td>Male</td>\n",
              "      <td>0</td>\n",
              "      <td>0</td>\n",
              "      <td>50</td>\n",
              "      <td>United-States</td>\n",
              "    </tr>\n",
              "  </tbody>\n",
              "</table>\n",
              "</div>"
            ],
            "text/plain": [
              "   age workclass  fnlwgt education  educational-num      marital-status  \\\n",
              "0   25   Private  226802      11th                7       Never-married   \n",
              "1   38   Private   89814   HS-grad                9  Married-civ-spouse   \n",
              "\n",
              "          occupation relationship   race gender  capital-gain  capital-loss  \\\n",
              "0  Machine-op-inspct    Own-child  Black   Male             0             0   \n",
              "1    Farming-fishing      Husband  White   Male             0             0   \n",
              "\n",
              "   hours-per-week native-country  \n",
              "0              40  United-States  \n",
              "1              50  United-States  "
            ]
          },
          "execution_count": 21,
          "metadata": {},
          "output_type": "execute_result"
        }
      ],
      "source": [
        "# Print x \n",
        "x.head(2)"
      ]
    },
    {
      "cell_type": "code",
      "execution_count": 22,
      "metadata": {
        "colab": {
          "base_uri": "https://localhost:8080/"
        },
        "id": "UvrHFWpklGmC",
        "outputId": "5770f509-6166-4fb1-ca23-af809b7c19b1"
      },
      "outputs": [
        {
          "data": {
            "text/plain": [
              "0    0\n",
              "1    0\n",
              "Name: income, dtype: int64"
            ]
          },
          "execution_count": 22,
          "metadata": {},
          "output_type": "execute_result"
        }
      ],
      "source": [
        "# Print y (target)\n",
        "y.head(2)"
      ]
    },
    {
      "cell_type": "code",
      "execution_count": 23,
      "metadata": {
        "id": "qbLPR3dumRHt"
      },
      "outputs": [],
      "source": [
        "#Separate out objects and numeric columns in x  \n",
        "cat_cols = x.columns[x.dtypes == 'object']\n",
        "num_cols = x.columns[(x.dtypes == 'float64') | (x.dtypes == 'int64')]\n",
        "# num_cols1=list(x.select_dtypes(exclude='object').columns) # can do this way also "
      ]
    },
    {
      "cell_type": "code",
      "execution_count": 24,
      "metadata": {},
      "outputs": [
        {
          "data": {
            "text/plain": [
              "Index(['workclass', 'education', 'marital-status', 'occupation',\n",
              "       'relationship', 'race', 'gender', 'native-country'],\n",
              "      dtype='object')"
            ]
          },
          "execution_count": 24,
          "metadata": {},
          "output_type": "execute_result"
        }
      ],
      "source": [
        "cat_cols"
      ]
    },
    {
      "cell_type": "code",
      "execution_count": 25,
      "metadata": {},
      "outputs": [
        {
          "data": {
            "text/plain": [
              "Index(['age', 'fnlwgt', 'educational-num', 'capital-gain', 'capital-loss',\n",
              "       'hours-per-week'],\n",
              "      dtype='object')"
            ]
          },
          "execution_count": 25,
          "metadata": {},
          "output_type": "execute_result"
        }
      ],
      "source": [
        "num_cols"
      ]
    },
    {
      "cell_type": "code",
      "execution_count": 26,
      "metadata": {
        "id": "A4hOteXPlN2e"
      },
      "outputs": [],
      "source": [
        "# Get dummies \n",
        "x=pd.get_dummies(x)"
      ]
    },
    {
      "cell_type": "code",
      "execution_count": 27,
      "metadata": {},
      "outputs": [
        {
          "data": {
            "text/html": [
              "<div>\n",
              "<style scoped>\n",
              "    .dataframe tbody tr th:only-of-type {\n",
              "        vertical-align: middle;\n",
              "    }\n",
              "\n",
              "    .dataframe tbody tr th {\n",
              "        vertical-align: top;\n",
              "    }\n",
              "\n",
              "    .dataframe thead th {\n",
              "        text-align: right;\n",
              "    }\n",
              "</style>\n",
              "<table border=\"1\" class=\"dataframe\">\n",
              "  <thead>\n",
              "    <tr style=\"text-align: right;\">\n",
              "      <th></th>\n",
              "      <th>age</th>\n",
              "      <th>fnlwgt</th>\n",
              "      <th>educational-num</th>\n",
              "      <th>capital-gain</th>\n",
              "      <th>capital-loss</th>\n",
              "      <th>hours-per-week</th>\n",
              "      <th>workclass_Federal-gov</th>\n",
              "      <th>workclass_Local-gov</th>\n",
              "      <th>workclass_Private</th>\n",
              "      <th>workclass_Self-emp-inc</th>\n",
              "      <th>...</th>\n",
              "      <th>native-country_Portugal</th>\n",
              "      <th>native-country_Puerto-Rico</th>\n",
              "      <th>native-country_Scotland</th>\n",
              "      <th>native-country_South</th>\n",
              "      <th>native-country_Taiwan</th>\n",
              "      <th>native-country_Thailand</th>\n",
              "      <th>native-country_Trinadad&amp;Tobago</th>\n",
              "      <th>native-country_United-States</th>\n",
              "      <th>native-country_Vietnam</th>\n",
              "      <th>native-country_Yugoslavia</th>\n",
              "    </tr>\n",
              "  </thead>\n",
              "  <tbody>\n",
              "    <tr>\n",
              "      <th>0</th>\n",
              "      <td>25</td>\n",
              "      <td>226802</td>\n",
              "      <td>7</td>\n",
              "      <td>0</td>\n",
              "      <td>0</td>\n",
              "      <td>40</td>\n",
              "      <td>0</td>\n",
              "      <td>0</td>\n",
              "      <td>1</td>\n",
              "      <td>0</td>\n",
              "      <td>...</td>\n",
              "      <td>0</td>\n",
              "      <td>0</td>\n",
              "      <td>0</td>\n",
              "      <td>0</td>\n",
              "      <td>0</td>\n",
              "      <td>0</td>\n",
              "      <td>0</td>\n",
              "      <td>1</td>\n",
              "      <td>0</td>\n",
              "      <td>0</td>\n",
              "    </tr>\n",
              "    <tr>\n",
              "      <th>1</th>\n",
              "      <td>38</td>\n",
              "      <td>89814</td>\n",
              "      <td>9</td>\n",
              "      <td>0</td>\n",
              "      <td>0</td>\n",
              "      <td>50</td>\n",
              "      <td>0</td>\n",
              "      <td>0</td>\n",
              "      <td>1</td>\n",
              "      <td>0</td>\n",
              "      <td>...</td>\n",
              "      <td>0</td>\n",
              "      <td>0</td>\n",
              "      <td>0</td>\n",
              "      <td>0</td>\n",
              "      <td>0</td>\n",
              "      <td>0</td>\n",
              "      <td>0</td>\n",
              "      <td>1</td>\n",
              "      <td>0</td>\n",
              "      <td>0</td>\n",
              "    </tr>\n",
              "    <tr>\n",
              "      <th>2</th>\n",
              "      <td>28</td>\n",
              "      <td>336951</td>\n",
              "      <td>12</td>\n",
              "      <td>0</td>\n",
              "      <td>0</td>\n",
              "      <td>40</td>\n",
              "      <td>0</td>\n",
              "      <td>1</td>\n",
              "      <td>0</td>\n",
              "      <td>0</td>\n",
              "      <td>...</td>\n",
              "      <td>0</td>\n",
              "      <td>0</td>\n",
              "      <td>0</td>\n",
              "      <td>0</td>\n",
              "      <td>0</td>\n",
              "      <td>0</td>\n",
              "      <td>0</td>\n",
              "      <td>1</td>\n",
              "      <td>0</td>\n",
              "      <td>0</td>\n",
              "    </tr>\n",
              "    <tr>\n",
              "      <th>3</th>\n",
              "      <td>44</td>\n",
              "      <td>160323</td>\n",
              "      <td>10</td>\n",
              "      <td>7688</td>\n",
              "      <td>0</td>\n",
              "      <td>40</td>\n",
              "      <td>0</td>\n",
              "      <td>0</td>\n",
              "      <td>1</td>\n",
              "      <td>0</td>\n",
              "      <td>...</td>\n",
              "      <td>0</td>\n",
              "      <td>0</td>\n",
              "      <td>0</td>\n",
              "      <td>0</td>\n",
              "      <td>0</td>\n",
              "      <td>0</td>\n",
              "      <td>0</td>\n",
              "      <td>1</td>\n",
              "      <td>0</td>\n",
              "      <td>0</td>\n",
              "    </tr>\n",
              "  </tbody>\n",
              "</table>\n",
              "<p>4 rows × 104 columns</p>\n",
              "</div>"
            ],
            "text/plain": [
              "   age  fnlwgt  educational-num  capital-gain  capital-loss  hours-per-week  \\\n",
              "0   25  226802                7             0             0              40   \n",
              "1   38   89814                9             0             0              50   \n",
              "2   28  336951               12             0             0              40   \n",
              "3   44  160323               10          7688             0              40   \n",
              "\n",
              "   workclass_Federal-gov  workclass_Local-gov  workclass_Private  \\\n",
              "0                      0                    0                  1   \n",
              "1                      0                    0                  1   \n",
              "2                      0                    1                  0   \n",
              "3                      0                    0                  1   \n",
              "\n",
              "   workclass_Self-emp-inc  ...  native-country_Portugal  \\\n",
              "0                       0  ...                        0   \n",
              "1                       0  ...                        0   \n",
              "2                       0  ...                        0   \n",
              "3                       0  ...                        0   \n",
              "\n",
              "   native-country_Puerto-Rico  native-country_Scotland  native-country_South  \\\n",
              "0                           0                        0                     0   \n",
              "1                           0                        0                     0   \n",
              "2                           0                        0                     0   \n",
              "3                           0                        0                     0   \n",
              "\n",
              "   native-country_Taiwan  native-country_Thailand  \\\n",
              "0                      0                        0   \n",
              "1                      0                        0   \n",
              "2                      0                        0   \n",
              "3                      0                        0   \n",
              "\n",
              "   native-country_Trinadad&Tobago  native-country_United-States  \\\n",
              "0                               0                             1   \n",
              "1                               0                             1   \n",
              "2                               0                             1   \n",
              "3                               0                             1   \n",
              "\n",
              "   native-country_Vietnam  native-country_Yugoslavia  \n",
              "0                       0                          0  \n",
              "1                       0                          0  \n",
              "2                       0                          0  \n",
              "3                       0                          0  \n",
              "\n",
              "[4 rows x 104 columns]"
            ]
          },
          "execution_count": 27,
          "metadata": {},
          "output_type": "execute_result"
        }
      ],
      "source": [
        "x.head(4)"
      ]
    },
    {
      "cell_type": "code",
      "execution_count": 28,
      "metadata": {
        "id": "ns-r_JKZlOUz"
      },
      "outputs": [],
      "source": [
        "\n",
        "#applying scalar to all numeric columns \n",
        "from sklearn.preprocessing import StandardScaler\n",
        "scaler = StandardScaler()\n",
        "x[num_cols]=scaler.fit_transform(x[num_cols])"
      ]
    },
    {
      "cell_type": "code",
      "execution_count": 29,
      "metadata": {
        "colab": {
          "base_uri": "https://localhost:8080/",
          "height": 240
        },
        "id": "eVaGcDqimqm5",
        "outputId": "19a31049-368b-4957-d4bf-dcca36af6491"
      },
      "outputs": [
        {
          "data": {
            "text/html": [
              "<div>\n",
              "<style scoped>\n",
              "    .dataframe tbody tr th:only-of-type {\n",
              "        vertical-align: middle;\n",
              "    }\n",
              "\n",
              "    .dataframe tbody tr th {\n",
              "        vertical-align: top;\n",
              "    }\n",
              "\n",
              "    .dataframe thead th {\n",
              "        text-align: right;\n",
              "    }\n",
              "</style>\n",
              "<table border=\"1\" class=\"dataframe\">\n",
              "  <thead>\n",
              "    <tr style=\"text-align: right;\">\n",
              "      <th></th>\n",
              "      <th>age</th>\n",
              "      <th>fnlwgt</th>\n",
              "      <th>educational-num</th>\n",
              "      <th>capital-gain</th>\n",
              "      <th>capital-loss</th>\n",
              "      <th>hours-per-week</th>\n",
              "      <th>workclass_Federal-gov</th>\n",
              "      <th>workclass_Local-gov</th>\n",
              "      <th>workclass_Private</th>\n",
              "      <th>workclass_Self-emp-inc</th>\n",
              "      <th>...</th>\n",
              "      <th>native-country_Portugal</th>\n",
              "      <th>native-country_Puerto-Rico</th>\n",
              "      <th>native-country_Scotland</th>\n",
              "      <th>native-country_South</th>\n",
              "      <th>native-country_Taiwan</th>\n",
              "      <th>native-country_Thailand</th>\n",
              "      <th>native-country_Trinadad&amp;Tobago</th>\n",
              "      <th>native-country_United-States</th>\n",
              "      <th>native-country_Vietnam</th>\n",
              "      <th>native-country_Yugoslavia</th>\n",
              "    </tr>\n",
              "  </thead>\n",
              "  <tbody>\n",
              "    <tr>\n",
              "      <th>24561</th>\n",
              "      <td>1.244312</td>\n",
              "      <td>-1.437463</td>\n",
              "      <td>2.304605</td>\n",
              "      <td>-0.146811</td>\n",
              "      <td>-0.218899</td>\n",
              "      <td>1.587119</td>\n",
              "      <td>0</td>\n",
              "      <td>1</td>\n",
              "      <td>0</td>\n",
              "      <td>0</td>\n",
              "      <td>...</td>\n",
              "      <td>0</td>\n",
              "      <td>0</td>\n",
              "      <td>0</td>\n",
              "      <td>0</td>\n",
              "      <td>0</td>\n",
              "      <td>0</td>\n",
              "      <td>0</td>\n",
              "      <td>1</td>\n",
              "      <td>0</td>\n",
              "      <td>0</td>\n",
              "    </tr>\n",
              "    <tr>\n",
              "      <th>44614</th>\n",
              "      <td>1.698334</td>\n",
              "      <td>-1.520851</td>\n",
              "      <td>-0.438652</td>\n",
              "      <td>-0.146811</td>\n",
              "      <td>6.578547</td>\n",
              "      <td>-1.327702</td>\n",
              "      <td>0</td>\n",
              "      <td>0</td>\n",
              "      <td>1</td>\n",
              "      <td>0</td>\n",
              "      <td>...</td>\n",
              "      <td>0</td>\n",
              "      <td>0</td>\n",
              "      <td>0</td>\n",
              "      <td>0</td>\n",
              "      <td>0</td>\n",
              "      <td>0</td>\n",
              "      <td>0</td>\n",
              "      <td>1</td>\n",
              "      <td>0</td>\n",
              "      <td>0</td>\n",
              "    </tr>\n",
              "  </tbody>\n",
              "</table>\n",
              "<p>2 rows × 104 columns</p>\n",
              "</div>"
            ],
            "text/plain": [
              "            age    fnlwgt  educational-num  capital-gain  capital-loss  \\\n",
              "24561  1.244312 -1.437463         2.304605     -0.146811     -0.218899   \n",
              "44614  1.698334 -1.520851        -0.438652     -0.146811      6.578547   \n",
              "\n",
              "       hours-per-week  workclass_Federal-gov  workclass_Local-gov  \\\n",
              "24561        1.587119                      0                    1   \n",
              "44614       -1.327702                      0                    0   \n",
              "\n",
              "       workclass_Private  workclass_Self-emp-inc  ...  \\\n",
              "24561                  0                       0  ...   \n",
              "44614                  1                       0  ...   \n",
              "\n",
              "       native-country_Portugal  native-country_Puerto-Rico  \\\n",
              "24561                        0                           0   \n",
              "44614                        0                           0   \n",
              "\n",
              "       native-country_Scotland  native-country_South  native-country_Taiwan  \\\n",
              "24561                        0                     0                      0   \n",
              "44614                        0                     0                      0   \n",
              "\n",
              "       native-country_Thailand  native-country_Trinadad&Tobago  \\\n",
              "24561                        0                               0   \n",
              "44614                        0                               0   \n",
              "\n",
              "       native-country_United-States  native-country_Vietnam  \\\n",
              "24561                             1                       0   \n",
              "44614                             1                       0   \n",
              "\n",
              "       native-country_Yugoslavia  \n",
              "24561                          0  \n",
              "44614                          0  \n",
              "\n",
              "[2 rows x 104 columns]"
            ]
          },
          "execution_count": 29,
          "metadata": {},
          "output_type": "execute_result"
        }
      ],
      "source": [
        "x.sample(2)"
      ]
    },
    {
      "cell_type": "code",
      "execution_count": 30,
      "metadata": {},
      "outputs": [
        {
          "data": {
            "text/plain": [
              "((27105, 104), (18070, 104), (27105,), (18070,))"
            ]
          },
          "execution_count": 30,
          "metadata": {},
          "output_type": "execute_result"
        }
      ],
      "source": [
        "#Sample for training and testing the model\n",
        "X_train, X_test, Y_train, Y_test = train_test_split(x, y, test_size=0.4, random_state=1)\n",
        "X_train.shape, X_test.shape, Y_train.shape, Y_test.shape"
      ]
    },
    {
      "attachments": {},
      "cell_type": "markdown",
      "metadata": {
        "id": "AI8mrh19m0Qz"
      },
      "source": [
        "#### 1.Logistic Regression classifier\n",
        "#### 2.Random Forest classifier  \n",
        "#### 3.Knn\n",
        "#### 4.SVC\n",
        "#### 5.Naive Bayes\n",
        "#### 6.without feature selection modeling (with all columns)\n",
        "#### 7. Compare accuracy"
      ]
    },
    {
      "cell_type": "code",
      "execution_count": 31,
      "metadata": {
        "colab": {
          "base_uri": "https://localhost:8080/"
        },
        "id": "5m8VnZpitzGh",
        "outputId": "92f2e8d4-fdde-4da8-9f6b-a61c7c092783"
      },
      "outputs": [
        {
          "name": "stderr",
          "output_type": "stream",
          "text": [
            "/home/codespace/.local/lib/python3.10/site-packages/sklearn/linear_model/_logistic.py:444: ConvergenceWarning: lbfgs failed to converge (status=1):\n",
            "STOP: TOTAL NO. of ITERATIONS REACHED LIMIT.\n",
            "\n",
            "Increase the number of iterations (max_iter) or scale the data as shown in:\n",
            "    https://scikit-learn.org/stable/modules/preprocessing.html\n",
            "Please also refer to the documentation for alternative solver options:\n",
            "    https://scikit-learn.org/stable/modules/linear_model.html#logistic-regression\n",
            "  n_iter_i = _check_optimize_result(\n"
          ]
        }
      ],
      "source": [
        "#Build base models\n",
        "lr = LogisticRegression(random_state=0).fit(X_train, Y_train)\n",
        "rf = RandomForestClassifier(n_estimators = 7).fit(X_train, Y_train)\n",
        "knn = KNeighborsClassifier(n_neighbors=3).fit(X_train, Y_train)\n",
        "svc = SVC().fit(X_train, Y_train)\n",
        "##nb = ComplementNB().fit(X_train, Y_train)\n",
        "nb = GaussianNB().fit(X_train, Y_train)"
      ]
    },
    {
      "cell_type": "code",
      "execution_count": 32,
      "metadata": {
        "colab": {
          "base_uri": "https://localhost:8080/"
        },
        "id": "fubgbn0Kt63A",
        "outputId": "2e24cf57-eb75-4057-d93e-12253a7007d6"
      },
      "outputs": [
        {
          "name": "stdout",
          "output_type": "stream",
          "text": [
            "Train Accuracy score of LR =  84.88839697472791\n",
            "Train Accuracy score of RF =  98.62018077845416\n",
            "Train Accuracy score of KNN =  89.9870872532743\n",
            "Train Accuracy score of SVC =  86.24976941523704\n",
            "Train Accuracy score of NB =  61.50156797638812\n"
          ]
        }
      ],
      "source": [
        "# Prediction on Train data set \n",
        "lr_pred = lr.predict(X_train)\n",
        "rf_pred = rf.predict(X_train)\n",
        "knn_pred = knn.predict(X_train)\n",
        "svc_pred = svc.predict(X_train)\n",
        "nb_pred = nb.predict(X_train)\n",
        "\n",
        "lr_train_score_1 = 100*metrics.accuracy_score(Y_train, lr_pred)\n",
        "rf_train_score_1 = 100*metrics.accuracy_score(Y_train, rf_pred)\n",
        "knn_train_score_1 = 100*metrics.accuracy_score(Y_train, knn_pred)\n",
        "svc_train_score_1 = 100*metrics.accuracy_score(Y_train, svc_pred)\n",
        "nb_train_score_1 = 100*metrics.accuracy_score(Y_train, nb_pred)\n",
        "\n",
        "\n",
        "print(\"Train Accuracy score of LR = \",lr_train_score_1)\n",
        "print(\"Train Accuracy score of RF = \",rf_train_score_1)\n",
        "print(\"Train Accuracy score of KNN = \",knn_train_score_1)\n",
        "print(\"Train Accuracy score of SVC = \",svc_train_score_1)\n",
        "print(\"Train Accuracy score of NB = \",nb_train_score_1)"
      ]
    },
    {
      "cell_type": "code",
      "execution_count": 33,
      "metadata": {
        "colab": {
          "base_uri": "https://localhost:8080/"
        },
        "id": "o1hl0iWhoD0A",
        "outputId": "68cdd4b6-a478-4eb7-ac93-b3bb5ae07322"
      },
      "outputs": [
        {
          "name": "stdout",
          "output_type": "stream",
          "text": [
            "Test Accuracy score of LR =  85.03043718871058\n",
            "Test Accuracy score of RF =  83.43110127282789\n",
            "Test Accuracy score of KNN =  82.05866076369674\n",
            "Test Accuracy score of SVC =  85.45655783065855\n",
            "Test Accuracy score of NB =  61.10127282789153\n"
          ]
        }
      ],
      "source": [
        "# Prediction on Test data set \n",
        "lr_pred_test = lr.predict(X_test)\n",
        "rf_pred_test = rf.predict(X_test)\n",
        "knn_pred_test = knn.predict(X_test)\n",
        "svc_pred_test = svc.predict(X_test)\n",
        "nb_pred_test = nb.predict(X_test)\n",
        "\n",
        "lr_test_score_1 = 100*metrics.accuracy_score(Y_test, lr_pred_test)\n",
        "rf_test_score_1 = 100*metrics.accuracy_score(Y_test, rf_pred_test)\n",
        "knn_test_score_1 = 100*metrics.accuracy_score(Y_test, knn_pred_test)\n",
        "svc_test_score_1 = 100*metrics.accuracy_score(Y_test, svc_pred_test)\n",
        "nb_test_score_1 = 100*metrics.accuracy_score(Y_test, nb_pred_test)\n",
        "\n",
        "print(\"Test Accuracy score of LR = \",lr_test_score_1)\n",
        "print(\"Test Accuracy score of RF = \",rf_test_score_1)\n",
        "print(\"Test Accuracy score of KNN = \",knn_test_score_1)\n",
        "print(\"Test Accuracy score of SVC = \",svc_test_score_1)\n",
        "print(\"Test Accuracy score of NB = \",nb_test_score_1)"
      ]
    },
    {
      "cell_type": "code",
      "execution_count": 34,
      "metadata": {},
      "outputs": [],
      "source": [
        "#<<<<<< Without feature selection on Train dataset - \n",
        "#Train Accuracy score of LR =  84.88839697472791\n",
        "#Train Accuracy score of RF =  98.45784910533112\n",
        "#Train Accuracy score of KNN =  89.9870872532743\n",
        "#Train Accuracy score of SVC =  86.24976941523704\n",
        "\n",
        "#<<<<<< Without feature selection on Test dataset - \n",
        "#Test Accuracy score of LR =  85.03043718871058\n",
        "#Test Accuracy score of RF =  83.44216934144991\n",
        "#Test Accuracy score of KNN =  82.05866076369674\n",
        "#Test Accuracy score of SVC =  85.45655783065855\n",
        "\n",
        "# RF Acuuracy on Train is 98% which come down to 83% on Test data set, this is causing overfitting \n",
        "# SVC Accuracy on Train is 86% and goes to 85.4% on Test. This seems to be best model for this criteria \n"
      ]
    },
    {
      "attachments": {},
      "cell_type": "markdown",
      "metadata": {},
      "source": [
        "#### Modeling with less features, will do feaure selection with GA (Genetic Algorithm)"
      ]
    },
    {
      "cell_type": "code",
      "execution_count": 35,
      "metadata": {},
      "outputs": [
        {
          "name": "stdout",
          "output_type": "stream",
          "text": [
            "Requirement already satisfied: sklearn-genetic in /usr/local/python/3.10.4/lib/python3.10/site-packages (0.5.1)\n",
            "Requirement already satisfied: scikit-learn>=0.23 in /home/codespace/.local/lib/python3.10/site-packages (from sklearn-genetic) (1.1.3)\n",
            "Requirement already satisfied: deap>=1.0.2 in /usr/local/python/3.10.4/lib/python3.10/site-packages (from sklearn-genetic) (1.3.3)\n",
            "Requirement already satisfied: numpy in /home/codespace/.local/lib/python3.10/site-packages (from sklearn-genetic) (1.23.5)\n",
            "Requirement already satisfied: multiprocess in /usr/local/python/3.10.4/lib/python3.10/site-packages (from sklearn-genetic) (0.70.14)\n",
            "Requirement already satisfied: joblib>=1.0.0 in /home/codespace/.local/lib/python3.10/site-packages (from scikit-learn>=0.23->sklearn-genetic) (1.2.0)\n",
            "Requirement already satisfied: threadpoolctl>=2.0.0 in /home/codespace/.local/lib/python3.10/site-packages (from scikit-learn>=0.23->sklearn-genetic) (3.1.0)\n",
            "Requirement already satisfied: scipy>=1.3.2 in /home/codespace/.local/lib/python3.10/site-packages (from scikit-learn>=0.23->sklearn-genetic) (1.9.3)\n",
            "Requirement already satisfied: dill>=0.3.6 in /usr/local/python/3.10.4/lib/python3.10/site-packages (from multiprocess->sklearn-genetic) (0.3.6)\n"
          ]
        }
      ],
      "source": [
        "# install GA library\n",
        "\n",
        "!pip install sklearn-genetic"
      ]
    },
    {
      "cell_type": "markdown",
      "metadata": {
        "id": "5wvll3XCo4ZC"
      },
      "source": [
        "# GA-based feature selection "
      ]
    },
    {
      "cell_type": "code",
      "execution_count": 36,
      "metadata": {
        "colab": {
          "base_uri": "https://localhost:8080/"
        },
        "id": "Ivfp1CsMt66Z",
        "outputId": "b80da7ea-2be0-46d0-8040-e14e7f6539d5"
      },
      "outputs": [],
      "source": [
        "estimator = DecisionTreeClassifier()\n",
        "fs_model = GeneticSelectionCV(\n",
        "    estimator, cv=5, verbose=0,\n",
        "    scoring=\"accuracy\", max_features=5,\n",
        "    n_population=100, crossover_proba=0.5,\n",
        "    mutation_proba=0.2, n_generations=50,\n",
        "    crossover_independent_proba=0.5,\n",
        "    mutation_independent_proba=0.04,\n",
        "    tournament_size=3, n_gen_no_change=10,\n",
        "    caching=True, n_jobs=-1)"
      ]
    },
    {
      "cell_type": "code",
      "execution_count": 37,
      "metadata": {},
      "outputs": [
        {
          "name": "stdout",
          "output_type": "stream",
          "text": [
            "Features: Index(['capital-gain', 'capital-loss', 'workclass_Self-emp-inc',\n",
            "       'education_Masters', 'marital-status_Married-civ-spouse'],\n",
            "      dtype='object')\n"
          ]
        }
      ],
      "source": [
        "# fit model and get most important features and print them\n",
        "fs_model = fs_model.fit(x, y)\n",
        "features =  x.columns[fs_model.support_]\n",
        "\n",
        "print('Features:', features)"
      ]
    },
    {
      "cell_type": "code",
      "execution_count": 38,
      "metadata": {
        "id": "8FB_5h-5qr1S"
      },
      "outputs": [
        {
          "name": "stdout",
          "output_type": "stream",
          "text": [
            "Number of features -  5\n"
          ]
        }
      ],
      "source": [
        "# For learning purpose you can limit to 3 features with below code\n",
        "#features = ['educational-num', 'capital-gain', 'capital-loss']\n",
        "#X =  x[features]\n",
        "\n",
        "\n",
        "#Build optimized models\n",
        "# Doing with all 5 features \n",
        "x1 =  x[features]\n",
        "y1 = y\n",
        "print(\"Number of features - \", len(x1.columns))"
      ]
    },
    {
      "cell_type": "code",
      "execution_count": 39,
      "metadata": {
        "colab": {
          "base_uri": "https://localhost:8080/"
        },
        "id": "z_ioXjEqxHF9",
        "outputId": "2ad6041f-631e-43ca-a80f-8b7dfbc6ac44"
      },
      "outputs": [
        {
          "data": {
            "text/plain": [
              "((27105, 5), (18070, 5), (27105,), (18070,))"
            ]
          },
          "execution_count": 39,
          "metadata": {},
          "output_type": "execute_result"
        }
      ],
      "source": [
        "X_train_ga, X_test_ga, Y_train_ga, Y_test_ga = train_test_split(x1, y1, test_size=0.4, random_state=1)\n",
        "X_train_ga.shape, X_test_ga.shape, Y_train_ga.shape, Y_test_ga.shape"
      ]
    },
    {
      "cell_type": "code",
      "execution_count": 40,
      "metadata": {
        "id": "L1pYRrhPsFji"
      },
      "outputs": [],
      "source": [
        "lr = LogisticRegression(random_state=0).fit(X_train_ga, Y_train_ga)\n",
        "rf = RandomForestClassifier(n_estimators = 7).fit(X_train_ga, Y_train_ga)\n",
        "knn = knn = KNeighborsClassifier(n_neighbors=3).fit(X_train_ga, Y_train_ga)\n",
        "svc = SVC().fit(X_train_ga, Y_train_ga)\n",
        "#nb = ComplementNB().fit(X_train_ga, Y_train_ga)\n",
        "nb = GaussianNB().fit(X_train_ga, Y_train_ga)"
      ]
    },
    {
      "cell_type": "code",
      "execution_count": 41,
      "metadata": {
        "colab": {
          "base_uri": "https://localhost:8080/"
        },
        "id": "FP8SLJgGtBMl",
        "outputId": "da80522c-ff21-4918-ad57-e7c3a19f7406"
      },
      "outputs": [
        {
          "name": "stdout",
          "output_type": "stream",
          "text": [
            "<< TRAIN Accuracy after GA feature selection >>\n",
            "Train Accuracy score of LR =  81.37244050913117\n",
            "Train Accuracy score of RF =  83.8996495111603\n",
            "Train Accuracy score of KNN =  82.85187234827522\n",
            "Train Accuracy score of SVC =  82.36856668511344\n",
            "Train Accuracy score of NB =  78.62018077845417\n"
          ]
        }
      ],
      "source": [
        "lr_pred_ga = lr.predict(X_train_ga)\n",
        "rf_pred_ga = rf.predict(X_train_ga)\n",
        "knn_pred_ga = knn.predict(X_train_ga)\n",
        "svc_pred_ga = svc.predict(X_train_ga)\n",
        "nb_pred_ga = nb.predict(X_train_ga)\n",
        "\n",
        "lr_train_score_2 = 100*metrics.accuracy_score(Y_train_ga, lr_pred_ga)\n",
        "rf_train_score_2 = 100*metrics.accuracy_score(Y_train_ga, rf_pred_ga)\n",
        "knn_train_score_2 = 100*metrics.accuracy_score(Y_train_ga, knn_pred_ga)\n",
        "svc_train_score_2 = 100*metrics.accuracy_score(Y_train_ga, svc_pred_ga)\n",
        "nb_train_score_2 = 100*metrics.accuracy_score(Y_train_ga, nb_pred_ga)\n",
        "\n",
        "print(\"<< TRAIN Accuracy after GA feature selection >>\")\n",
        "print(\"Train Accuracy score of LR = \",lr_train_score_2)\n",
        "print(\"Train Accuracy score of RF = \",rf_train_score_2)\n",
        "print(\"Train Accuracy score of KNN = \",knn_train_score_2)\n",
        "print(\"Train Accuracy score of SVC = \",svc_train_score_2)\n",
        "print(\"Train Accuracy score of NB = \",nb_train_score_2)"
      ]
    },
    {
      "cell_type": "code",
      "execution_count": 42,
      "metadata": {
        "colab": {
          "base_uri": "https://localhost:8080/"
        },
        "id": "QLe5oIxQwNZn",
        "outputId": "2584ed41-4d25-4a95-f2e0-7fb4a60a0968"
      },
      "outputs": [
        {
          "name": "stdout",
          "output_type": "stream",
          "text": [
            "<< TEST Accuracy after GA feature selection >>\n",
            "Test Accuracy score of LR =  81.30049806308799\n",
            "Test Accuracy score of RF =  83.74654122855561\n",
            "Test Accuracy score of KNN =  82.72827891532928\n",
            "Test Accuracy score of SVC =  82.35749861649143\n",
            "Test Accuracy score of NB =  78.81018262313226\n"
          ]
        }
      ],
      "source": [
        "lr_pred_ga_test = lr.predict(X_test_ga)\n",
        "rf_pred_ga_test = rf.predict(X_test_ga)\n",
        "knn_pred_ga_test = knn.predict(X_test_ga)\n",
        "svc_pred_ga_test = svc.predict(X_test_ga)\n",
        "nb_pred_ga_test = nb.predict(X_test_ga)\n",
        "\n",
        "lr_test_score_2 = 100*metrics.accuracy_score(Y_test_ga, lr_pred_ga_test)\n",
        "rf_test_score_2 = 100*metrics.accuracy_score(Y_test_ga, rf_pred_ga_test)\n",
        "knn_test_score_2 = 100*metrics.accuracy_score(Y_test_ga, knn_pred_ga_test)\n",
        "svc_test_score_2 = 100*metrics.accuracy_score(Y_test_ga, svc_pred_ga_test)\n",
        "nb_test_score_2 = 100*metrics.accuracy_score(Y_test_ga, nb_pred_ga_test)\n",
        "\n",
        "print(\"<< TEST Accuracy after GA feature selection >>\")\n",
        "print(\"Test Accuracy score of LR = \",lr_test_score_2)\n",
        "print(\"Test Accuracy score of RF = \",rf_test_score_2)\n",
        "print(\"Test Accuracy score of KNN = \",knn_test_score_2)\n",
        "print(\"Test Accuracy score of SVC = \",svc_test_score_2)\n",
        "print(\"Test Accuracy score of NB = \",nb_test_score_2)"
      ]
    },
    {
      "cell_type": "markdown",
      "metadata": {
        "id": "mYZm4dfesR5O"
      },
      "source": [
        "# Inference"
      ]
    },
    {
      "cell_type": "code",
      "execution_count": 46,
      "metadata": {},
      "outputs": [
        {
          "data": {
            "text/html": [
              "<div>\n",
              "<style scoped>\n",
              "    .dataframe tbody tr th:only-of-type {\n",
              "        vertical-align: middle;\n",
              "    }\n",
              "\n",
              "    .dataframe tbody tr th {\n",
              "        vertical-align: top;\n",
              "    }\n",
              "\n",
              "    .dataframe thead th {\n",
              "        text-align: right;\n",
              "    }\n",
              "</style>\n",
              "<table border=\"1\" class=\"dataframe\">\n",
              "  <thead>\n",
              "    <tr style=\"text-align: right;\">\n",
              "      <th></th>\n",
              "      <th>Model_name</th>\n",
              "      <th>Score1_Train</th>\n",
              "      <th>Score1_test</th>\n",
              "      <th>Score2_GA_FS_Train</th>\n",
              "      <th>Score2_GA_FS_test</th>\n",
              "    </tr>\n",
              "  </thead>\n",
              "  <tbody>\n",
              "    <tr>\n",
              "      <th>1</th>\n",
              "      <td>RF</td>\n",
              "      <td>98.620181</td>\n",
              "      <td>83.431101</td>\n",
              "      <td>83.899650</td>\n",
              "      <td>83.746541</td>\n",
              "    </tr>\n",
              "    <tr>\n",
              "      <th>2</th>\n",
              "      <td>KNN</td>\n",
              "      <td>89.987087</td>\n",
              "      <td>82.058661</td>\n",
              "      <td>82.851872</td>\n",
              "      <td>82.728279</td>\n",
              "    </tr>\n",
              "    <tr>\n",
              "      <th>3</th>\n",
              "      <td>SVC</td>\n",
              "      <td>86.249769</td>\n",
              "      <td>85.456558</td>\n",
              "      <td>82.368567</td>\n",
              "      <td>82.357499</td>\n",
              "    </tr>\n",
              "    <tr>\n",
              "      <th>0</th>\n",
              "      <td>LR</td>\n",
              "      <td>84.888397</td>\n",
              "      <td>85.030437</td>\n",
              "      <td>81.372441</td>\n",
              "      <td>81.300498</td>\n",
              "    </tr>\n",
              "    <tr>\n",
              "      <th>4</th>\n",
              "      <td>NB</td>\n",
              "      <td>61.501568</td>\n",
              "      <td>61.101273</td>\n",
              "      <td>78.620181</td>\n",
              "      <td>78.810183</td>\n",
              "    </tr>\n",
              "  </tbody>\n",
              "</table>\n",
              "</div>"
            ],
            "text/plain": [
              "  Model_name  Score1_Train  Score1_test  Score2_GA_FS_Train  Score2_GA_FS_test\n",
              "1         RF     98.620181    83.431101           83.899650          83.746541\n",
              "2        KNN     89.987087    82.058661           82.851872          82.728279\n",
              "3        SVC     86.249769    85.456558           82.368567          82.357499\n",
              "0         LR     84.888397    85.030437           81.372441          81.300498\n",
              "4         NB     61.501568    61.101273           78.620181          78.810183"
            ]
          },
          "execution_count": 46,
          "metadata": {},
          "output_type": "execute_result"
        }
      ],
      "source": [
        "\n",
        "d = {\n",
        "    'Model_name':['LR', 'RF', 'KNN', 'SVC','NB'],\n",
        "    'Score1_Train':[lr_train_score_1,rf_train_score_1,knn_train_score_1,svc_train_score_1,nb_train_score_1],\n",
        "    'Score1_test':[lr_test_score_1,rf_test_score_1,knn_test_score_1,svc_test_score_1,nb_test_score_1],\n",
        "   'Score2_GA_FS_Train':[lr_train_score_2,rf_train_score_2,knn_train_score_2,svc_train_score_2,nb_train_score_2],\n",
        "   'Score2_GA_FS_test':[lr_test_score_2,rf_test_score_2,knn_test_score_2,svc_test_score_2,nb_test_score_2]}\n",
        "\n",
        "result = pd.DataFrame(d) \n",
        "result.sort_values(by='Score2_GA_FS_test', ascending=False, inplace = True)\n",
        "result"
      ]
    },
    {
      "cell_type": "markdown",
      "metadata": {
        "id": "qfnzlVMwsiV6"
      },
      "source": []
    },
    {
      "cell_type": "markdown",
      "metadata": {
        "id": "-clfsnWxtFkl"
      },
      "source": [
        "# 1. Without feature selectoion with all 14 features - \n",
        "  RF giving best accuracy 98% on train data, on test it went down to 84%. \n",
        "  Other two also giving similar accuracy on Tets data set\n",
        "\n",
        "# 2. With GA feature selectoion on 3 features -  \n",
        "     RF giving best accuracy 83% on train data, on test it remains to 83%. \n",
        "  LR and KNN not giving good results with less features \n",
        "\n",
        "# 3. In my opinion RF performing good \n"
      ]
    }
  ],
  "metadata": {
    "colab": {
      "provenance": []
    },
    "kernelspec": {
      "display_name": "Python 3",
      "language": "python",
      "name": "python3"
    },
    "language_info": {
      "codemirror_mode": {
        "name": "ipython",
        "version": 3
      },
      "file_extension": ".py",
      "mimetype": "text/x-python",
      "name": "python",
      "nbconvert_exporter": "python",
      "pygments_lexer": "ipython3",
      "version": "3.10.4 (main, Nov 29 2022, 20:00:25) [GCC 9.4.0]"
    },
    "vscode": {
      "interpreter": {
        "hash": "3ad933181bd8a04b432d3370b9dc3b0662ad032c4dfaa4e4f1596c548f763858"
      }
    }
  },
  "nbformat": 4,
  "nbformat_minor": 0
}
